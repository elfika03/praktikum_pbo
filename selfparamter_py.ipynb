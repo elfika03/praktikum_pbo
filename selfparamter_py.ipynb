{
  "nbformat": 4,
  "nbformat_minor": 0,
  "metadata": {
    "colab": {
      "provenance": [],
      "authorship_tag": "ABX9TyO9+xe0Vcw5DPCvPAAg3egt",
      "include_colab_link": true
    },
    "kernelspec": {
      "name": "python3",
      "display_name": "Python 3"
    },
    "language_info": {
      "name": "python"
    }
  },
  "cells": [
    {
      "cell_type": "markdown",
      "metadata": {
        "id": "view-in-github",
        "colab_type": "text"
      },
      "source": [
        "<a href=\"https://colab.research.google.com/github/elfika03/praktikum_pbo/blob/main/selfparamter_py.ipynb\" target=\"_parent\"><img src=\"https://colab.research.google.com/assets/colab-badge.svg\" alt=\"Open In Colab\"/></a>"
      ]
    },
    {
      "cell_type": "code",
      "execution_count": 1,
      "metadata": {
        "id": "sbLReAcVq3tI",
        "outputId": "39d323d2-cd30-4da1-9eb0-3e2057d582df",
        "colab": {
          "base_uri": "https://localhost:8080/"
        }
      },
      "outputs": [
        {
          "output_type": "stream",
          "name": "stdout",
          "text": [
            "Buddy 3 Canine\n",
            "Charlie 5 Canine\n",
            "Canine\n"
          ]
        }
      ],
      "source": [
        "class Dog:\n",
        "    species = \"Canine\"  # Class attribute\n",
        "\n",
        "    def __init__(self, name, age):\n",
        "        self.name = name  # Instance attribute\n",
        "        self.age = age  # Instance attribute\n",
        "\n",
        "dog1 = Dog(\"Buddy\", 3)  # Create an instance of Dog\n",
        "dog2 = Dog(\"Charlie\", 5)  # Create another instance of Dog\n",
        "\n",
        "print(dog1.name, dog1.age, dog1.species)  # Access instance and class attributes\n",
        "print(dog2.name, dog2.age, dog2.species)  # Access instance and class attributes\n",
        "print(Dog.species)  # Access class attribute directly"
      ]
    }
  ]
}