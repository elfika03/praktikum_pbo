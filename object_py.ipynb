{
  "nbformat": 4,
  "nbformat_minor": 0,
  "metadata": {
    "colab": {
      "provenance": [],
      "authorship_tag": "ABX9TyPSV1UHBIiweczu7HiFTXMI",
      "include_colab_link": true
    },
    "kernelspec": {
      "name": "python3",
      "display_name": "Python 3"
    },
    "language_info": {
      "name": "python"
    }
  },
  "cells": [
    {
      "cell_type": "markdown",
      "metadata": {
        "id": "view-in-github",
        "colab_type": "text"
      },
      "source": [
        "<a href=\"https://colab.research.google.com/github/elfika03/praktikum_pbo/blob/main/object_py.ipynb\" target=\"_parent\"><img src=\"https://colab.research.google.com/assets/colab-badge.svg\" alt=\"Open In Colab\"/></a>"
      ]
    },
    {
      "cell_type": "code",
      "execution_count": 2,
      "metadata": {
        "colab": {
          "base_uri": "https://localhost:8080/"
        },
        "id": "oBzQ9MYkkBiO",
        "outputId": "76f3bb6f-ca46-4e6f-caf4-2ad5deb90155"
      },
      "outputs": [
        {
          "output_type": "stream",
          "name": "stdout",
          "text": [
            "Buddy\n",
            "5\n",
            "Canine\n",
            "Melky\n",
            "AB\n",
            "Melky\n",
            "AB\n",
            "AB\n"
          ]
        }
      ],
      "source": [
        "class Dog:\n",
        "    species = \"Canine\"  # Class attribute\n",
        "\n",
        "    def __init__(self, name, age):\n",
        "        self.name = name  # Instance attribute\n",
        "        self.age = age  # Instance attribute\n",
        "\n",
        "# Creating an object of the Dog class\n",
        "dog1 = Dog(\"Buddy\", 3)\n",
        "dog2 = Dog(\"Moy\", 5)\n",
        "print(dog1.name)\n",
        "print(dog2.age)\n",
        "print(dog2.species)\n",
        "\n",
        "dog1.name= \"Melky\"\n",
        "print(dog1.name)\n",
        "dog1.species=\"AB\"\n",
        "print(dog1.species)\n",
        "\n",
        "print(dog1.name)\n",
        "print(dog1.species)\n",
        "print(dog1.species)"
      ]
    },
    {
      "cell_type": "markdown",
      "source": [],
      "metadata": {
        "id": "ENiY3tahoBs8"
      }
    }
  ]
}